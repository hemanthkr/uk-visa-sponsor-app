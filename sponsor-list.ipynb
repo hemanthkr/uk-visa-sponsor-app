{
 "cells": [
  {
   "cell_type": "code",
   "execution_count": null,
   "metadata": {},
   "outputs": [],
   "source": [
    "# import requests\n",
    "\n",
    "# data_url = 'https://assets.publishing.service.gov.uk/media/66c6ef366bd4274a15d76695/2024-08-22_-_Worker_and_Temporary_Worker.csv'\n",
    "# response = requests.get(data_url)\n",
    "\n",
    "# if response.status_code == 200:\n",
    "#     # Open a local file in write-binary mode\n",
    "#     with open('downloaded_file.txt', 'wb') as file:\n",
    "#         # Write the content of the response to the file\n",
    "#         file.write(response.content)\n"
   ]
  },
  {
   "cell_type": "code",
   "execution_count": 17,
   "metadata": {},
   "outputs": [],
   "source": [
    "from bs4 import BeautifulSoup as bs\n",
    "import requests\n",
    "import pandas as pd"
   ]
  },
  {
   "cell_type": "code",
   "execution_count": 9,
   "metadata": {},
   "outputs": [],
   "source": [
    "url = \"https://www.gov.uk/government/publications/register-of-licensed-sponsors-workers\"\n",
    "\n",
    "page = requests.get(url)\n",
    "soup = bs(page.content, 'html.parser')\n",
    "tags = soup.find_all('a')\n",
    "links = [tag['href'] for tag in tags]"
   ]
  },
  {
   "cell_type": "code",
   "execution_count": 16,
   "metadata": {},
   "outputs": [
    {
     "data": {
      "text/plain": [
       "'https://assets.publishing.service.gov.uk/media/66c84b0007733cc4df618245/2024-08-23_-_Worker_and_Temporary_Worker.csv'"
      ]
     },
     "execution_count": 16,
     "metadata": {},
     "output_type": "execute_result"
    }
   ],
   "source": [
    "url = 'https://assets.publishing.service.gov.uk/'\n",
    "link = [link for link in links if link.startswith(url)]\n",
    "download_url = link[0]\n",
    "download_url        "
   ]
  },
  {
   "cell_type": "code",
   "execution_count": 18,
   "metadata": {},
   "outputs": [
    {
     "data": {
      "text/html": [
       "<div>\n",
       "<style scoped>\n",
       "    .dataframe tbody tr th:only-of-type {\n",
       "        vertical-align: middle;\n",
       "    }\n",
       "\n",
       "    .dataframe tbody tr th {\n",
       "        vertical-align: top;\n",
       "    }\n",
       "\n",
       "    .dataframe thead th {\n",
       "        text-align: right;\n",
       "    }\n",
       "</style>\n",
       "<table border=\"1\" class=\"dataframe\">\n",
       "  <thead>\n",
       "    <tr style=\"text-align: right;\">\n",
       "      <th></th>\n",
       "      <th>Organisation Name</th>\n",
       "      <th>Town/City</th>\n",
       "      <th>County</th>\n",
       "      <th>Type &amp; Rating</th>\n",
       "      <th>Route</th>\n",
       "    </tr>\n",
       "  </thead>\n",
       "  <tbody>\n",
       "    <tr>\n",
       "      <th>0</th>\n",
       "      <td>McMullan Shellfish</td>\n",
       "      <td>Ballymena</td>\n",
       "      <td>Co Antrim</td>\n",
       "      <td>Worker (A rating)</td>\n",
       "      <td>Skilled Worker</td>\n",
       "    </tr>\n",
       "    <tr>\n",
       "      <th>1</th>\n",
       "      <td>(IECC Care) Independent Excel Care Consortium ...</td>\n",
       "      <td>Colchester</td>\n",
       "      <td>NaN</td>\n",
       "      <td>Worker (A rating)</td>\n",
       "      <td>Skilled Worker</td>\n",
       "    </tr>\n",
       "    <tr>\n",
       "      <th>2</th>\n",
       "      <td>*ABOUTCARE HASTINGS LTD</td>\n",
       "      <td>East Sussex</td>\n",
       "      <td>NaN</td>\n",
       "      <td>Worker (A rating)</td>\n",
       "      <td>Skilled Worker</td>\n",
       "    </tr>\n",
       "    <tr>\n",
       "      <th>3</th>\n",
       "      <td>???£ ESS LTD</td>\n",
       "      <td>Manchester</td>\n",
       "      <td>NaN</td>\n",
       "      <td>Worker (A rating)</td>\n",
       "      <td>Skilled Worker</td>\n",
       "    </tr>\n",
       "    <tr>\n",
       "      <th>4</th>\n",
       "      <td>@ Architect UK Ltd</td>\n",
       "      <td>West Horndon</td>\n",
       "      <td>Essex</td>\n",
       "      <td>Worker (A rating)</td>\n",
       "      <td>Skilled Worker</td>\n",
       "    </tr>\n",
       "    <tr>\n",
       "      <th>...</th>\n",
       "      <td>...</td>\n",
       "      <td>...</td>\n",
       "      <td>...</td>\n",
       "      <td>...</td>\n",
       "      <td>...</td>\n",
       "    </tr>\n",
       "    <tr>\n",
       "      <th>119189</th>\n",
       "      <td>Zyzzle Limited</td>\n",
       "      <td>Surbiton</td>\n",
       "      <td>NaN</td>\n",
       "      <td>Worker (A rating)</td>\n",
       "      <td>Skilled Worker</td>\n",
       "    </tr>\n",
       "    <tr>\n",
       "      <th>119190</th>\n",
       "      <td>ZZA CONSULTING LIMITED</td>\n",
       "      <td>LONDON</td>\n",
       "      <td>NaN</td>\n",
       "      <td>Worker (A rating)</td>\n",
       "      <td>Skilled Worker</td>\n",
       "    </tr>\n",
       "    <tr>\n",
       "      <th>119191</th>\n",
       "      <td>ZZIY Ltd</td>\n",
       "      <td>High Wycombe</td>\n",
       "      <td>NaN</td>\n",
       "      <td>Worker (A rating)</td>\n",
       "      <td>Skilled Worker</td>\n",
       "    </tr>\n",
       "    <tr>\n",
       "      <th>119192</th>\n",
       "      <td>ZZN STUDIO LTD</td>\n",
       "      <td>HAMPTON</td>\n",
       "      <td>NaN</td>\n",
       "      <td>Worker (A rating)</td>\n",
       "      <td>Skilled Worker</td>\n",
       "    </tr>\n",
       "    <tr>\n",
       "      <th>119193</th>\n",
       "      <td>Zzoomm Plc</td>\n",
       "      <td>Oxford</td>\n",
       "      <td>NaN</td>\n",
       "      <td>Worker (A rating)</td>\n",
       "      <td>Skilled Worker</td>\n",
       "    </tr>\n",
       "  </tbody>\n",
       "</table>\n",
       "<p>119194 rows × 5 columns</p>\n",
       "</div>"
      ],
      "text/plain": [
       "                                        Organisation Name     Town/City  \\\n",
       "0                                      McMullan Shellfish     Ballymena   \n",
       "1       (IECC Care) Independent Excel Care Consortium ...    Colchester   \n",
       "2                                 *ABOUTCARE HASTINGS LTD   East Sussex   \n",
       "3                                            ???£ ESS LTD    Manchester   \n",
       "4                                      @ Architect UK Ltd  West Horndon   \n",
       "...                                                   ...           ...   \n",
       "119189                                     Zyzzle Limited      Surbiton   \n",
       "119190                             ZZA CONSULTING LIMITED        LONDON   \n",
       "119191                                           ZZIY Ltd  High Wycombe   \n",
       "119192                                     ZZN STUDIO LTD       HAMPTON   \n",
       "119193                                         Zzoomm Plc        Oxford   \n",
       "\n",
       "           County      Type & Rating           Route  \n",
       "0       Co Antrim  Worker (A rating)  Skilled Worker  \n",
       "1             NaN  Worker (A rating)  Skilled Worker  \n",
       "2             NaN  Worker (A rating)  Skilled Worker  \n",
       "3             NaN  Worker (A rating)  Skilled Worker  \n",
       "4           Essex  Worker (A rating)  Skilled Worker  \n",
       "...           ...                ...             ...  \n",
       "119189        NaN  Worker (A rating)  Skilled Worker  \n",
       "119190        NaN  Worker (A rating)  Skilled Worker  \n",
       "119191        NaN  Worker (A rating)  Skilled Worker  \n",
       "119192        NaN  Worker (A rating)  Skilled Worker  \n",
       "119193        NaN  Worker (A rating)  Skilled Worker  \n",
       "\n",
       "[119194 rows x 5 columns]"
      ]
     },
     "execution_count": 18,
     "metadata": {},
     "output_type": "execute_result"
    }
   ],
   "source": [
    "dataframe = pd.read_csv(download_url)\n",
    "dataframe"
   ]
  },
  {
   "cell_type": "code",
   "execution_count": 19,
   "metadata": {},
   "outputs": [
    {
     "name": "stdout",
     "output_type": "stream",
     "text": [
      "<class 'pandas.core.frame.DataFrame'>\n",
      "RangeIndex: 119194 entries, 0 to 119193\n",
      "Data columns (total 5 columns):\n",
      " #   Column             Non-Null Count   Dtype \n",
      "---  ------             --------------   ----- \n",
      " 0   Organisation Name  119194 non-null  object\n",
      " 1   Town/City          119191 non-null  object\n",
      " 2   County             41146 non-null   object\n",
      " 3   Type & Rating      119194 non-null  object\n",
      " 4   Route              119194 non-null  object\n",
      "dtypes: object(5)\n",
      "memory usage: 4.5+ MB\n"
     ]
    }
   ],
   "source": [
    "dataframe.info()"
   ]
  },
  {
   "cell_type": "code",
   "execution_count": null,
   "metadata": {},
   "outputs": [],
   "source": []
  }
 ],
 "metadata": {
  "kernelspec": {
   "display_name": "app_dev",
   "language": "python",
   "name": "python3"
  },
  "language_info": {
   "codemirror_mode": {
    "name": "ipython",
    "version": 3
   },
   "file_extension": ".py",
   "mimetype": "text/x-python",
   "name": "python",
   "nbconvert_exporter": "python",
   "pygments_lexer": "ipython3",
   "version": "3.10.14"
  }
 },
 "nbformat": 4,
 "nbformat_minor": 2
}
